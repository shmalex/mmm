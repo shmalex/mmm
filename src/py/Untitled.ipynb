{
 "cells": [
  {
   "cell_type": "code",
   "execution_count": 1,
   "metadata": {},
   "outputs": [],
   "source": [
    "import numpy as np\n",
    "import pandas as pd\n",
    "import glob\n",
    "import collections as c"
   ]
  },
  {
   "cell_type": "code",
   "execution_count": 2,
   "metadata": {},
   "outputs": [],
   "source": [
    "files = sorted(glob.glob('./data/**/**/**/**'))"
   ]
  },
  {
   "cell_type": "code",
   "execution_count": 3,
   "metadata": {},
   "outputs": [
    {
     "data": {
      "text/plain": [
       "'./data/nasdaq/A/AABA/income_statement_annual.txt'"
      ]
     },
     "execution_count": 3,
     "metadata": {},
     "output_type": "execute_result"
    }
   ],
   "source": [
    "files[4]"
   ]
  },
  {
   "cell_type": "code",
   "execution_count": 21,
   "metadata": {},
   "outputs": [],
   "source": [
    "dfs = []"
   ]
  },
  {
   "cell_type": "code",
   "execution_count": 23,
   "metadata": {},
   "outputs": [],
   "source": [
    "head = c.Counter()\n",
    "\n",
    "for file in files:\n",
    "    df = pd.read_csv(file, header=None)\n",
    "    head.update([row[1][1] for row in df.iterrows()])\n",
    "    dfs.append(df)"
   ]
  },
  {
   "cell_type": "code",
   "execution_count": 28,
   "metadata": {},
   "outputs": [
    {
     "name": "stdout",
     "output_type": "stream",
     "text": [
      "./data/nasdaq/A/AABA/balance_sheet_annual.txt\n"
     ]
    },
    {
     "data": {
      "text/html": [
       "<div>\n",
       "<style scoped>\n",
       "    .dataframe tbody tr th:only-of-type {\n",
       "        vertical-align: middle;\n",
       "    }\n",
       "\n",
       "    .dataframe tbody tr th {\n",
       "        vertical-align: top;\n",
       "    }\n",
       "\n",
       "    .dataframe thead th {\n",
       "        text-align: right;\n",
       "    }\n",
       "</style>\n",
       "<table border=\"1\" class=\"dataframe\">\n",
       "  <thead>\n",
       "    <tr style=\"text-align: right;\">\n",
       "      <th></th>\n",
       "      <th>0</th>\n",
       "      <th>1</th>\n",
       "      <th>2</th>\n",
       "      <th>3</th>\n",
       "      <th>4</th>\n",
       "      <th>5</th>\n",
       "    </tr>\n",
       "  </thead>\n",
       "  <tbody>\n",
       "    <tr>\n",
       "      <th>0</th>\n",
       "      <td>0</td>\n",
       "      <td>Period End Date</td>\n",
       "      <td>12/31/2014</td>\n",
       "      <td>12/31/2015</td>\n",
       "      <td>12/31/2016</td>\n",
       "      <td>12/31/2017</td>\n",
       "    </tr>\n",
       "    <tr>\n",
       "      <th>1</th>\n",
       "      <td>0</td>\n",
       "      <td>Stmt Source</td>\n",
       "      <td>10-K</td>\n",
       "      <td>10-K</td>\n",
       "      <td>10-K</td>\n",
       "      <td>N-CSR</td>\n",
       "    </tr>\n",
       "    <tr>\n",
       "      <th>2</th>\n",
       "      <td>0</td>\n",
       "      <td>Stmt Source Date</td>\n",
       "      <td>3/1/2017</td>\n",
       "      <td>3/1/2017</td>\n",
       "      <td>3/1/2017</td>\n",
       "      <td>2/26/2018</td>\n",
       "    </tr>\n",
       "    <tr>\n",
       "      <th>3</th>\n",
       "      <td>0</td>\n",
       "      <td>Stmt Update Type</td>\n",
       "      <td>-</td>\n",
       "      <td>-</td>\n",
       "      <td>-</td>\n",
       "      <td>-</td>\n",
       "    </tr>\n",
       "    <tr>\n",
       "      <th>4</th>\n",
       "      <td>0</td>\n",
       "      <td>Currency Code</td>\n",
       "      <td>NaN</td>\n",
       "      <td>NaN</td>\n",
       "      <td>NaN</td>\n",
       "      <td>NaN</td>\n",
       "    </tr>\n",
       "  </tbody>\n",
       "</table>\n",
       "</div>"
      ],
      "text/plain": [
       "   0                 1           2           3           4           5\n",
       "0  0   Period End Date  12/31/2014  12/31/2015  12/31/2016  12/31/2017\n",
       "1  0       Stmt Source        10-K        10-K        10-K       N-CSR\n",
       "2  0  Stmt Source Date    3/1/2017    3/1/2017    3/1/2017   2/26/2018\n",
       "3  0  Stmt Update Type           -           -           -           -\n",
       "4  0     Currency Code         NaN         NaN         NaN         NaN"
      ]
     },
     "execution_count": 28,
     "metadata": {},
     "output_type": "execute_result"
    }
   ],
   "source": [
    "print(files[0])\n",
    "dfs[0].head()"
   ]
  },
  {
   "cell_type": "code",
   "execution_count": 10,
   "metadata": {},
   "outputs": [],
   "source": [
    "\n",
    "p = {}\n",
    "for i, m in enumerate(maping):\n",
    "    p[m]=tmp[2][i]"
   ]
  },
  {
   "cell_type": "code",
   "execution_count": 12,
   "metadata": {
    "scrolled": false
   },
   "outputs": [],
   "source": [
    "all_heads = list(head.keys())"
   ]
  },
  {
   "cell_type": "code",
   "execution_count": 13,
   "metadata": {
    "scrolled": false
   },
   "outputs": [
    {
     "data": {
      "text/plain": [
       "['Period End Date',\n",
       " 'Stmt Source',\n",
       " 'Stmt Source Date',\n",
       " 'Stmt Update Type',\n",
       " 'Currency Code',\n",
       " 'Assets',\n",
       " 'Cash, Equiv and Short Term Investments',\n",
       " 'Cash and Cash Equivalents',\n",
       " 'Short Term Investments',\n",
       " 'Receivables',\n",
       " 'Accounts Receivable',\n",
       " 'Inventories',\n",
       " 'Finished Goods',\n",
       " 'Raw Materials',\n",
       " 'Work-in-Process',\n",
       " 'Deferred Current Assets',\n",
       " 'Deferred Taxes,Current Assets',\n",
       " 'Other Current Assets',\n",
       " 'Total Current Assets',\n",
       " 'Net Property,Plant,and Equipment',\n",
       " 'Gross Property,Plant,and Equipment',\n",
       " 'Land and Improvements',\n",
       " 'Buildings and Improvements',\n",
       " 'Machinery,Furniture/Equipment',\n",
       " 'Leasehold and Improvements',\n",
       " 'Accumulated Depreciation',\n",
       " 'Goodwill and Other Intangible Assets',\n",
       " 'Goodwill',\n",
       " 'Other Intangible Assets',\n",
       " 'Investments and Advances',\n",
       " 'Other Non-Current Assets',\n",
       " 'Total Non-Current Assets',\n",
       " 'Total Assets',\n",
       " \"Liabilities and Shareholders' Equity\",\n",
       " 'Payables',\n",
       " 'Accounts Payable',\n",
       " 'Taxes Payable',\n",
       " 'Other Payable',\n",
       " 'Accrued Expenses,Current',\n",
       " 'Current Debt',\n",
       " 'Deferred Liabilities,Current',\n",
       " 'Deferred Revenue,Current',\n",
       " 'Other Current Liabilities',\n",
       " 'Total Current Liabilities',\n",
       " 'LT Debt and Capital Lease Obligation',\n",
       " 'Long Term Debt',\n",
       " 'Deferred Liabilities, Non current',\n",
       " 'Deferred Taxes,Non-Current Liabilities',\n",
       " 'Deferred Revenues,Non-Current',\n",
       " 'Other Non-Current Liabilities',\n",
       " 'Total Non-Current Liabilities and MI',\n",
       " 'Total Liabilities',\n",
       " 'Capital Stock',\n",
       " 'Common Stock',\n",
       " 'Retained Earnings',\n",
       " 'Accum Gains/ Losses Not Affecting RE',\n",
       " 'Total Equity',\n",
       " 'Total Liabilities and Equity',\n",
       " 'Ordinary Shares Outstanding',\n",
       " 'Total Revenue',\n",
       " 'Cost of Revenue',\n",
       " 'Gross Profit',\n",
       " 'Selling,General and Administrative',\n",
       " 'General and Administrative Expense',\n",
       " 'Selling and Marketing Expense',\n",
       " 'Research and Development',\n",
       " 'Special Income/Charges',\n",
       " 'Operating Expenses',\n",
       " 'Operating Income',\n",
       " 'Net Interest Income',\n",
       " 'Other Income/Expense,Net',\n",
       " 'Pre-Tax Income',\n",
       " 'Provision for Income Tax',\n",
       " 'Net Income',\n",
       " 'Dividend Per Share',\n",
       " 'Tax Rate',\n",
       " 'Basic EPS',\n",
       " 'Basic Weighted Average Shares',\n",
       " 'Basic EPS from Continuing Operations',\n",
       " 'Basic EPS,Continuing and Discontinued',\n",
       " 'Diluted EPS',\n",
       " 'Diluted Weighted Average Shares',\n",
       " 'Diluted EPS from Continuing Operations',\n",
       " 'Diluted EPS,Continuing and Discontinued',\n",
       " 'Net Income from Continuing Operations',\n",
       " 'Operating Gains/Losses',\n",
       " 'Gain/Loss on Investment Securities',\n",
       " 'Depreciation,Amortization and Depletion',\n",
       " 'Deferred Taxes',\n",
       " 'Other Non-Cash Items',\n",
       " 'Asset Impairment Charge',\n",
       " 'Stock-Based Compensation',\n",
       " 'Excess Tax Benefit from Stock-Based Compensation',\n",
       " 'Change in Receivables',\n",
       " 'Change in Inventories',\n",
       " 'Change in Pay/Accrued Exp',\n",
       " 'Change in Payables',\n",
       " 'Change In Account Payable',\n",
       " 'Change in Other Current Assets',\n",
       " 'Change in Other Current Liabilities',\n",
       " 'Change in Other Working Capital',\n",
       " 'Cash Flow from Operating Activities',\n",
       " 'Purchase/Sale of Prop,Plant,Equip: Net',\n",
       " 'Purchase of Property,Plant and Equipment',\n",
       " 'Purchase/Sale of Business,Net',\n",
       " 'Purchase/Acquisition of Business',\n",
       " 'Purchase/Sale of Investments,Net',\n",
       " 'Purchase of Investments',\n",
       " 'Purchase of Long Term Investments',\n",
       " 'Sale of Investments',\n",
       " 'Sale of Long Term Investments',\n",
       " 'Other Investing Changes,Net',\n",
       " 'Cash Flow from Investing Activities',\n",
       " 'Issuance/Payments of Debt,Net',\n",
       " 'Issuance/Payments of LT Debt,Net',\n",
       " 'Payments to Settle Long Term Debt',\n",
       " 'Issuance/Payments of Common Stock,Net',\n",
       " 'Proceeds or Issuance of Long Term Debt',\n",
       " 'Proceeds or Issuance of Short Term Debt',\n",
       " 'Issuance/Payments of ST Debt,Net',\n",
       " 'Payments to Settle Short Term Debt',\n",
       " 'Payments for Common Stock',\n",
       " 'Proceeds or Issuance of Common Stock',\n",
       " 'Cash Dividends Paid',\n",
       " 'Common Stock Dividends Paid',\n",
       " 'Other Financing Changes, Net',\n",
       " 'Cash Flow from Financing Activities',\n",
       " 'Cash, Equivalents, Start of Period',\n",
       " 'Cash, Equivalents, End of Period',\n",
       " 'Change in Cash',\n",
       " 'Free Cash Flow',\n",
       " 'Effect of Exchange Rate Changes']"
      ]
     },
     "execution_count": 13,
     "metadata": {},
     "output_type": "execute_result"
    }
   ],
   "source": [
    "all_heads"
   ]
  },
  {
   "cell_type": "code",
   "execution_count": 17,
   "metadata": {},
   "outputs": [
    {
     "data": {
      "text/plain": [
       "Int64Index([0, 1, 2, 3, 4, 5], dtype='int64')"
      ]
     },
     "execution_count": 17,
     "metadata": {},
     "output_type": "execute_result"
    }
   ],
   "source": [
    "db = pd.DataFrame(columns=all_heads)\n",
    "tmp = pd.read_csv(files[0], header=None)\n",
    "tmp.set_index(1)\n",
    "tr = pd.DataFrame(columns=all_heads)\n",
    "maping = list(tmp[1])\n",
    "tmp.columns"
   ]
  },
  {
   "cell_type": "code",
   "execution_count": 18,
   "metadata": {},
   "outputs": [
    {
     "data": {
      "text/html": [
       "<div>\n",
       "<style scoped>\n",
       "    .dataframe tbody tr th:only-of-type {\n",
       "        vertical-align: middle;\n",
       "    }\n",
       "\n",
       "    .dataframe tbody tr th {\n",
       "        vertical-align: top;\n",
       "    }\n",
       "\n",
       "    .dataframe thead th {\n",
       "        text-align: right;\n",
       "    }\n",
       "</style>\n",
       "<table border=\"1\" class=\"dataframe\">\n",
       "  <thead>\n",
       "    <tr style=\"text-align: right;\">\n",
       "      <th></th>\n",
       "      <th>Period End Date</th>\n",
       "      <th>Stmt Source</th>\n",
       "      <th>Stmt Source Date</th>\n",
       "      <th>Stmt Update Type</th>\n",
       "      <th>Currency Code</th>\n",
       "      <th>Assets</th>\n",
       "      <th>Cash, Equiv and Short Term Investments</th>\n",
       "      <th>Cash and Cash Equivalents</th>\n",
       "      <th>Short Term Investments</th>\n",
       "      <th>Receivables</th>\n",
       "      <th>...</th>\n",
       "      <th>Proceeds or Issuance of Common Stock</th>\n",
       "      <th>Cash Dividends Paid</th>\n",
       "      <th>Common Stock Dividends Paid</th>\n",
       "      <th>Other Financing Changes, Net</th>\n",
       "      <th>Cash Flow from Financing Activities</th>\n",
       "      <th>Cash, Equivalents, Start of Period</th>\n",
       "      <th>Cash, Equivalents, End of Period</th>\n",
       "      <th>Change in Cash</th>\n",
       "      <th>Free Cash Flow</th>\n",
       "      <th>Effect of Exchange Rate Changes</th>\n",
       "    </tr>\n",
       "  </thead>\n",
       "  <tbody>\n",
       "    <tr>\n",
       "      <th>0</th>\n",
       "      <td>12/31/2014</td>\n",
       "      <td>10-K</td>\n",
       "      <td>3/1/2017</td>\n",
       "      <td>-</td>\n",
       "      <td>NaN</td>\n",
       "      <td>NaN</td>\n",
       "      <td>7,991.5</td>\n",
       "      <td>2,664.1</td>\n",
       "      <td>5,327.4</td>\n",
       "      <td>1,163.6</td>\n",
       "      <td>...</td>\n",
       "      <td>NaN</td>\n",
       "      <td>NaN</td>\n",
       "      <td>NaN</td>\n",
       "      <td>NaN</td>\n",
       "      <td>NaN</td>\n",
       "      <td>NaN</td>\n",
       "      <td>NaN</td>\n",
       "      <td>NaN</td>\n",
       "      <td>NaN</td>\n",
       "      <td>NaN</td>\n",
       "    </tr>\n",
       "  </tbody>\n",
       "</table>\n",
       "<p>1 rows × 132 columns</p>\n",
       "</div>"
      ],
      "text/plain": [
       "  Period End Date Stmt Source Stmt Source Date Stmt Update Type Currency Code  \\\n",
       "0      12/31/2014        10-K         3/1/2017                -           NaN   \n",
       "\n",
       "  Assets Cash, Equiv and Short Term Investments Cash and Cash Equivalents  \\\n",
       "0    NaN                                7,991.5                   2,664.1   \n",
       "\n",
       "  Short Term Investments Receivables               ...                \\\n",
       "0                5,327.4     1,163.6               ...                 \n",
       "\n",
       "  Proceeds or Issuance of Common Stock Cash Dividends Paid  \\\n",
       "0                                  NaN                 NaN   \n",
       "\n",
       "  Common Stock Dividends Paid Other Financing Changes, Net  \\\n",
       "0                         NaN                          NaN   \n",
       "\n",
       "  Cash Flow from Financing Activities Cash, Equivalents, Start of Period  \\\n",
       "0                                 NaN                                NaN   \n",
       "\n",
       "  Cash, Equivalents, End of Period Change in Cash Free Cash Flow  \\\n",
       "0                              NaN            NaN            NaN   \n",
       "\n",
       "  Effect of Exchange Rate Changes  \n",
       "0                             NaN  \n",
       "\n",
       "[1 rows x 132 columns]"
      ]
     },
     "execution_count": 18,
     "metadata": {},
     "output_type": "execute_result"
    }
   ],
   "source": [
    "tr.append(p, ignore_index=True)\n"
   ]
  },
  {
   "cell_type": "code",
   "execution_count": null,
   "metadata": {},
   "outputs": [],
   "source": []
  }
 ],
 "metadata": {
  "kernelspec": {
   "display_name": "Python 3",
   "language": "python",
   "name": "python3"
  },
  "language_info": {
   "codemirror_mode": {
    "name": "ipython",
    "version": 3
   },
   "file_extension": ".py",
   "mimetype": "text/x-python",
   "name": "python",
   "nbconvert_exporter": "python",
   "pygments_lexer": "ipython3",
   "version": "3.6.5"
  }
 },
 "nbformat": 4,
 "nbformat_minor": 2
}
