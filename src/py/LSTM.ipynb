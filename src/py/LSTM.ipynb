{
 "cells": [
  {
   "cell_type": "code",
   "execution_count": 51,
   "metadata": {},
   "outputs": [],
   "source": [
    "from math import sqrt\n",
    "from numpy import concatenate\n",
    "from matplotlib import pyplot\n",
    "import pandas as pd\n",
    "import numpy as np\n",
    "from pandas import read_csv\n",
    "from pandas import DataFrame\n",
    "from pandas import concat\n",
    "from sklearn.preprocessing import MinMaxScaler\n",
    "from sklearn.preprocessing import LabelEncoder\n",
    "from sklearn.metrics import mean_squared_error\n",
    "from keras.models import Sequential\n",
    "from keras.layers import Dense\n",
    "from keras.layers import LSTM"
   ]
  },
  {
   "cell_type": "code",
   "execution_count": 6,
   "metadata": {},
   "outputs": [],
   "source": [
    "from mmm import count_probs, get_list, get_stocks_type, count_logs, count_logs_fixed, get_last_n, get_stats, get_data\n"
   ]
  },
  {
   "cell_type": "code",
   "execution_count": 3,
   "metadata": {},
   "outputs": [],
   "source": [
    "# convert series to supervised learning\n",
    "def series_to_supervised(data, n_in=1, n_out=1, dropnan=True):\n",
    "    n_vars = 1 if type(data) is list else data.shape[1]\n",
    "    df = DataFrame(data)\n",
    "    cols, names = list(), list()\n",
    "    # input sequence (t-n, ... t-1)\n",
    "    for i in range(n_in, 0, -1):\n",
    "        cols.append(df.shift(i))\n",
    "        names += [('var%d(t-%d)' % (j+1, i)) for j in range(n_vars)]\n",
    "    # forecast sequence (t, t+1, ... t+n)\n",
    "    for i in range(0, n_out):\n",
    "        cols.append(df.shift(-i))\n",
    "        if i == 0:\n",
    "            names += [('var%d(t)' % (j+1)) for j in range(n_vars)]\n",
    "        else:\n",
    "            names += [('var%d(t+%d)' % (j+1, i)) for j in range(n_vars)]\n",
    "    # put it all together\n",
    "    agg = concat(cols, axis=1)\n",
    "    agg.columns = names\n",
    "    # drop rows with NaN values\n",
    "    if dropnan:\n",
    "        agg.dropna(inplace=True)\n",
    "    return agg"
   ]
  },
  {
   "cell_type": "code",
   "execution_count": 5,
   "metadata": {},
   "outputs": [],
   "source": [
    "import jsonim"
   ]
  },
  {
   "cell_type": "code",
   "execution_count": 128,
   "metadata": {},
   "outputs": [],
   "source": [
    "d = get_data('BABA')\n",
    "\n",
    "df = pd.DataFrame(data=get_data('BABA')[1])"
   ]
  },
  {
   "cell_type": "code",
   "execution_count": 132,
   "metadata": {},
   "outputs": [
    {
     "data": {
      "image/png": "[encoded data removed]",
      "text/plain": [
       "<Figure size 432x288 with 1 Axes>"
      ]
     },
     "metadata": {},
     "output_type": "display_data"
    }
   ],
   "source": [
    "pyplot.plot(values[:,2])\n",
    "pyplot.show()"
   ]
  },
  {
   "cell_type": "code",
   "execution_count": 133,
   "metadata": {},
   "outputs": [
    {
     "name": "stdout",
     "output_type": "stream",
     "text": [
      "[[  92.7    99.7    89.95   93.89 1014.  ]\n",
      " [  92.7    92.95   89.5    89.89 1003.  ]\n",
      " [  88.94   90.48   86.62   87.17  975.  ]\n",
      " ...\n",
      " [ 165.52  167.39  164.87  165.4   449.  ]\n",
      " [ 166.39  167.05  164.92  166.32  387.  ]\n",
      " [ 164.9   165.66  163.3   164.76  233.  ]]\n",
      "----\n",
      "[[0.23190305 0.26821297 0.21788299 0.23783147 1.        ]\n",
      " [0.23190305 0.22410977 0.21488923 0.2117678  0.9891519 ]\n",
      " [0.20727155 0.20797127 0.19572884 0.19404441 0.9615385 ]\n",
      " ...\n",
      " [0.70894206 0.7104869  0.7163196  0.70378566 0.4428008 ]\n",
      " [0.71464133 0.7082653  0.7166522  0.70978045 0.3816568 ]\n",
      " [0.7048805  0.69918334 0.7058745  0.6996155  0.22978304]]\n",
      "(1005, 55)\n"
     ]
    }
   ],
   "source": [
    "# load dataset\n",
    "data = df[['open', 'high', 'low', 'close', 'volume']].values\n",
    "values = data\n",
    "# integer encode direction\n",
    "encoder = LabelEncoder()\n",
    "values[:,4] = encoder.fit_transform(values[:,4])\n",
    "# ensure all data is float\n",
    "values = values.astype('float32')\n",
    "# normalize features\n",
    "scaler = MinMaxScaler(feature_range=(0, 1))\n",
    "print(values)\n",
    "scaled = scaler.fit_transform(values)\n",
    "print('----')\n",
    "print(scaled)\n",
    "# specify the number of lag hours\n",
    "n_hours = 10\n",
    "n_features = 4\n",
    "# frame as supervised learning\n",
    "reframed = series_to_supervised(scaled, n_hours, 1)\n",
    "print(reframed.shape)"
   ]
  },
  {
   "cell_type": "code",
   "execution_count": 107,
   "metadata": {},
   "outputs": [
    {
     "data": {
      "text/plain": [
       "8760"
      ]
     },
     "execution_count": 107,
     "metadata": {},
     "output_type": "execute_result"
    }
   ],
   "source": [
    "365 * 24"
   ]
  },
  {
   "cell_type": "code",
   "execution_count": 134,
   "metadata": {},
   "outputs": [
    {
     "name": "stdout",
     "output_type": "stream",
     "text": [
      "(800, 40) 800 (800,)\n",
      "(800, 10, 4) (800,) (205, 10, 4) (205,)\n"
     ]
    }
   ],
   "source": [
    "# split into train and test sets\n",
    "values = reframed.values\n",
    "n_train_hours = 800\n",
    "train = values[:n_train_hours, :]\n",
    "test = values[n_train_hours:, :]\n",
    "# split into input and outputs\n",
    "n_obs = n_hours * n_features\n",
    "train_X, train_y = train[:, :n_obs], train[:, -n_features]\n",
    "test_X, test_y = test[:, :n_obs], test[:, -n_features]\n",
    "print(train_X.shape, len(train_X), train_y.shape)\n",
    "# reshape input to be 3D [samples, timesteps, features]\n",
    "train_X = train_X.reshape((train_X.shape[0], n_hours, n_features))\n",
    "test_X = test_X.reshape((test_X.shape[0], n_hours, n_features))\n",
    "print(train_X.shape, train_y.shape, test_X.shape, test_y.shape)"
   ]
  },
  {
   "cell_type": "code",
   "execution_count": 109,
   "metadata": {},
   "outputs": [
    {
     "name": "stdout",
     "output_type": "stream",
     "text": [
      "Train on 800 samples, validate on 205 samples\n",
      "Epoch 1/50\n",
      " - 2s - loss: 0.1489 - val_loss: 0.0956\n",
      "Epoch 2/50\n",
      " - 0s - loss: 0.1502 - val_loss: 0.0704\n",
      "Epoch 3/50\n",
      " - 0s - loss: 0.1201 - val_loss: 0.2952\n",
      "Epoch 4/50\n",
      " - 0s - loss: 0.0674 - val_loss: 0.1199\n",
      "Epoch 5/50\n",
      " - 0s - loss: 0.0620 - val_loss: 0.0536\n",
      "Epoch 6/50\n",
      " - 0s - loss: 0.0637 - val_loss: 0.0538\n",
      "Epoch 7/50\n",
      " - 0s - loss: 0.0486 - val_loss: 0.0593\n",
      "Epoch 8/50\n",
      " - 0s - loss: 0.0703 - val_loss: 0.0820\n",
      "Epoch 9/50\n",
      " - 0s - loss: 0.0450 - val_loss: 0.0724\n",
      "Epoch 10/50\n",
      " - 0s - loss: 0.0707 - val_loss: 0.1146\n",
      "Epoch 11/50\n",
      " - 0s - loss: 0.0384 - val_loss: 0.0588\n",
      "Epoch 12/50\n",
      " - 0s - loss: 0.0580 - val_loss: 0.0626\n",
      "Epoch 13/50\n",
      " - 0s - loss: 0.0407 - val_loss: 0.0570\n",
      "Epoch 14/50\n",
      " - 0s - loss: 0.0580 - val_loss: 0.0681\n",
      "Epoch 15/50\n",
      " - 0s - loss: 0.0391 - val_loss: 0.0583\n",
      "Epoch 16/50\n",
      " - 0s - loss: 0.0569 - val_loss: 0.0723\n",
      "Epoch 17/50\n",
      " - 0s - loss: 0.0367 - val_loss: 0.0556\n",
      "Epoch 18/50\n",
      " - 0s - loss: 0.0513 - val_loss: 0.0560\n",
      "Epoch 19/50\n",
      " - 0s - loss: 0.0375 - val_loss: 0.0573\n",
      "Epoch 20/50\n",
      " - 0s - loss: 0.0522 - val_loss: 0.0623\n",
      "Epoch 21/50\n",
      " - 0s - loss: 0.0352 - val_loss: 0.0553\n",
      "Epoch 22/50\n",
      " - 0s - loss: 0.0494 - val_loss: 0.0598\n",
      "Epoch 23/50\n",
      " - 0s - loss: 0.0338 - val_loss: 0.0528\n",
      "Epoch 24/50\n",
      " - 0s - loss: 0.0436 - val_loss: 0.0491\n",
      "Epoch 25/50\n",
      " - 0s - loss: 0.0315 - val_loss: 0.0461\n",
      "Epoch 26/50\n",
      " - 0s - loss: 0.0395 - val_loss: 0.0441\n",
      "Epoch 27/50\n",
      " - 0s - loss: 0.0307 - val_loss: 0.0427\n",
      "Epoch 28/50\n",
      " - 0s - loss: 0.0365 - val_loss: 0.0414\n",
      "Epoch 29/50\n",
      " - 0s - loss: 0.0297 - val_loss: 0.0416\n",
      "Epoch 30/50\n",
      " - 0s - loss: 0.0332 - val_loss: 0.0390\n",
      "Epoch 31/50\n",
      " - 0s - loss: 0.0288 - val_loss: 0.0402\n",
      "Epoch 32/50\n",
      " - 0s - loss: 0.0324 - val_loss: 0.0381\n",
      "Epoch 33/50\n",
      " - 0s - loss: 0.0282 - val_loss: 0.0391\n",
      "Epoch 34/50\n",
      " - 0s - loss: 0.0316 - val_loss: 0.0375\n",
      "Epoch 35/50\n",
      " - 0s - loss: 0.0271 - val_loss: 0.0384\n",
      "Epoch 36/50\n",
      " - 0s - loss: 0.0307 - val_loss: 0.0370\n",
      "Epoch 37/50\n",
      " - 0s - loss: 0.0259 - val_loss: 0.0375\n",
      "Epoch 38/50\n",
      " - 0s - loss: 0.0297 - val_loss: 0.0366\n",
      "Epoch 39/50\n",
      " - 0s - loss: 0.0247 - val_loss: 0.0368\n",
      "Epoch 40/50\n",
      " - 0s - loss: 0.0282 - val_loss: 0.0362\n",
      "Epoch 41/50\n",
      " - 0s - loss: 0.0236 - val_loss: 0.0364\n",
      "Epoch 42/50\n",
      " - 0s - loss: 0.0243 - val_loss: 0.0362\n",
      "Epoch 43/50\n",
      " - 0s - loss: 0.0226 - val_loss: 0.0363\n",
      "Epoch 44/50\n",
      " - 0s - loss: 0.0225 - val_loss: 0.0359\n",
      "Epoch 45/50\n",
      " - 0s - loss: 0.0215 - val_loss: 0.0362\n",
      "Epoch 46/50\n",
      " - 0s - loss: 0.0211 - val_loss: 0.0360\n",
      "Epoch 47/50\n",
      " - 0s - loss: 0.0208 - val_loss: 0.0355\n",
      "Epoch 48/50\n",
      " - 0s - loss: 0.0204 - val_loss: 0.0353\n",
      "Epoch 49/50\n",
      " - 0s - loss: 0.0205 - val_loss: 0.0351\n",
      "Epoch 50/50\n",
      " - 0s - loss: 0.0201 - val_loss: 0.0349\n"
     ]
    }
   ],
   "source": [
    "# design network\n",
    "model = Sequential()\n",
    "model.add(LSTM(50, input_shape=(train_X.shape[1], train_X.shape[2])))\n",
    "model.add(Dense(1))\n",
    "model.compile(loss='mae', optimizer='adam')\n",
    "# fit network\n",
    "\n",
    "history = model.fit(train_X, train_y, epochs=50, batch_size=72, validation_data=(test_X, test_y), verbose=2, shuffle=False)\n",
    "# plot history"
   ]
  },
  {
   "cell_type": "code",
   "execution_count": 119,
   "metadata": {},
   "outputs": [
    {
     "data": {
      "image/png": "[encoded data removed]",
      "text/plain": [
       "<Figure size 432x288 with 1 Axes>"
      ]
     },
     "metadata": {},
     "output_type": "display_data"
    }
   ],
   "source": [
    "#print(history.history)\n",
    "pyplot.plot(history.history['loss'], label='train')\n",
    "pyplot.plot(history.history['val_loss'], label='test')\n",
    "pyplot.legend()\n",
    "pyplot.show()"
   ]
  },
  {
   "cell_type": "code",
   "execution_count": 118,
   "metadata": {},
   "outputs": [
    {
     "data": {
      "text/plain": [
       "array([[[0.8716018 , 0.86840904, 0.875524  , 0.86994195],\n",
       "        [0.7248521 , 0.8793973 , 0.8696505 , 0.87931603],\n",
       "        [0.8630351 , 0.4852071 , 0.8653128 , 0.86932385],\n",
       "        ...,\n",
       "        [0.798332  , 0.964497  , 0.8007207 , 0.7915715 ],\n",
       "        [0.79249555, 0.77989185, 0.8668639 , 0.7728137 ],\n",
       "        [0.7915715 , 0.7757302 , 0.7637975 , 0.87968445]],\n",
       "\n",
       "       [[0.8793973 , 0.8696505 , 0.87931603, 0.8630351 ],\n",
       "        [0.4852071 , 0.8653128 , 0.86932385, 0.87485856],\n",
       "        [0.87183166, 0.19428009, 0.8725189 , 0.86769235],\n",
       "        ...,\n",
       "        [0.77989185, 0.8668639 , 0.7728137 , 0.7915715 ],\n",
       "        [0.7757302 , 0.7637975 , 0.87968445, 0.785457  ],\n",
       "        [0.77706635, 0.73887295, 0.73102236, 0.9497042 ]],\n",
       "\n",
       "       [[0.8653128 , 0.86932385, 0.87485856, 0.87183166],\n",
       "        [0.19428009, 0.8725189 , 0.86769235, 0.8672078 ],\n",
       "        [0.85124123, 0.52169627, 0.8616444 , 0.85233593],\n",
       "        ...,\n",
       "        [0.7637975 , 0.87968445, 0.785457  , 0.77706635],\n",
       "        [0.73887295, 0.73102236, 0.9497042 , 0.7073698 ],\n",
       "        [0.7468802 , 0.71219474, 0.7269825 , 0.92011833]],\n",
       "\n",
       "       ...,\n",
       "\n",
       "       [[0.66098917, 0.68062735, 0.6585111 , 0.678113  ],\n",
       "        [0.9280079 , 0.70822144, 0.7093761 , 0.71059805],\n",
       "        [0.70463276, 0.8648915 , 0.7244023 , 0.7144724 ],\n",
       "        ...,\n",
       "        [0.68573666, 0.82051283, 0.71791685, 0.71251225],\n",
       "        [0.71529704, 0.7069135 , 0.8145957 , 0.7347528 ],\n",
       "        [0.72649467, 0.71385807, 0.6987685 , 0.7998028 ]],\n",
       "\n",
       "       [[0.70822144, 0.7093761 , 0.71059805, 0.70463276],\n",
       "        [0.8648915 , 0.7244023 , 0.7144724 , 0.7064133 ],\n",
       "        [0.6994853 , 0.8303748 , 0.6826073 , 0.6729827 ],\n",
       "        ...,\n",
       "        [0.7069135 , 0.8145957 , 0.7347528 , 0.72649467],\n",
       "        [0.71385807, 0.6987685 , 0.7998028 , 0.69118905],\n",
       "        [0.68441045, 0.6845853 , 0.68919015, 0.40828404]],\n",
       "\n",
       "       [[0.7244023 , 0.7144724 , 0.7064133 , 0.6994853 ],\n",
       "        [0.8303748 , 0.6826073 , 0.6729827 , 0.67253417],\n",
       "        [0.66136706, 0.7495069 , 0.6523421 , 0.6582817 ],\n",
       "        ...,\n",
       "        [0.6987685 , 0.7998028 , 0.69118905, 0.68441045],\n",
       "        [0.6845853 , 0.68919015, 0.40828404, 0.6993122 ],\n",
       "        [0.6977459 , 0.70274764, 0.6962924 , 0.17455621]]], dtype=float32)"
      ]
     },
     "execution_count": 118,
     "metadata": {},
     "output_type": "execute_result"
    }
   ],
   "source": [
    "test_X"
   ]
  },
  {
   "cell_type": "code",
   "execution_count": 135,
   "metadata": {},
   "outputs": [
    {
     "data": {
      "text/plain": [
       "array([[[0.8716018 , 0.86840904, 0.875524  , 0.86994195],\n",
       "        [0.7248521 , 0.8793973 , 0.8696505 , 0.87931603],\n",
       "        [0.8630351 , 0.4852071 , 0.8653128 , 0.86932385],\n",
       "        ...,\n",
       "        [0.798332  , 0.964497  , 0.8007207 , 0.7915715 ],\n",
       "        [0.79249555, 0.77989185, 0.8668639 , 0.7728137 ],\n",
       "        [0.7915715 , 0.7757302 , 0.7637975 , 0.87968445]],\n",
       "\n",
       "       [[0.8793973 , 0.8696505 , 0.87931603, 0.8630351 ],\n",
       "        [0.4852071 , 0.8653128 , 0.86932385, 0.87485856],\n",
       "        [0.87183166, 0.19428009, 0.8725189 , 0.86769235],\n",
       "        ...,\n",
       "        [0.77989185, 0.8668639 , 0.7728137 , 0.7915715 ],\n",
       "        [0.7757302 , 0.7637975 , 0.87968445, 0.785457  ],\n",
       "        [0.77706635, 0.73887295, 0.73102236, 0.9497042 ]],\n",
       "\n",
       "       [[0.8653128 , 0.86932385, 0.87485856, 0.87183166],\n",
       "        [0.19428009, 0.8725189 , 0.86769235, 0.8672078 ],\n",
       "        [0.85124123, 0.52169627, 0.8616444 , 0.85233593],\n",
       "        ...,\n",
       "        [0.7637975 , 0.87968445, 0.785457  , 0.77706635],\n",
       "        [0.73887295, 0.73102236, 0.9497042 , 0.7073698 ],\n",
       "        [0.7468802 , 0.71219474, 0.7269825 , 0.92011833]],\n",
       "\n",
       "       ...,\n",
       "\n",
       "       [[0.66098917, 0.68062735, 0.6585111 , 0.678113  ],\n",
       "        [0.9280079 , 0.70822144, 0.7093761 , 0.71059805],\n",
       "        [0.70463276, 0.8648915 , 0.7244023 , 0.7144724 ],\n",
       "        ...,\n",
       "        [0.68573666, 0.82051283, 0.71791685, 0.71251225],\n",
       "        [0.71529704, 0.7069135 , 0.8145957 , 0.7347528 ],\n",
       "        [0.72649467, 0.71385807, 0.6987685 , 0.7998028 ]],\n",
       "\n",
       "       [[0.70822144, 0.7093761 , 0.71059805, 0.70463276],\n",
       "        [0.8648915 , 0.7244023 , 0.7144724 , 0.7064133 ],\n",
       "        [0.6994853 , 0.8303748 , 0.6826073 , 0.6729827 ],\n",
       "        ...,\n",
       "        [0.7069135 , 0.8145957 , 0.7347528 , 0.72649467],\n",
       "        [0.71385807, 0.6987685 , 0.7998028 , 0.69118905],\n",
       "        [0.68441045, 0.6845853 , 0.68919015, 0.40828404]],\n",
       "\n",
       "       [[0.7244023 , 0.7144724 , 0.7064133 , 0.6994853 ],\n",
       "        [0.8303748 , 0.6826073 , 0.6729827 , 0.67253417],\n",
       "        [0.66136706, 0.7495069 , 0.6523421 , 0.6582817 ],\n",
       "        ...,\n",
       "        [0.6987685 , 0.7998028 , 0.69118905, 0.68441045],\n",
       "        [0.6845853 , 0.68919015, 0.40828404, 0.6993122 ],\n",
       "        [0.6977459 , 0.70274764, 0.6962924 , 0.17455621]]], dtype=float32)"
      ]
     },
     "execution_count": 135,
     "metadata": {},
     "output_type": "execute_result"
    }
   ],
   "source": [
    "test_X"
   ]
  },
  {
   "cell_type": "code",
   "execution_count": 136,
   "metadata": {
    "scrolled": false
   },
   "outputs": [
    {
     "ename": "ValueError",
     "evalue": "cannot reshape array of size 8200 into shape (800,40)",
     "output_type": "error",
     "traceback": [
      "\u001b[0;31m---------------------------------------------------------------------------\u001b[0m",
      "\u001b[0;31mValueError\u001b[0m                                Traceback (most recent call last)",
      "\u001b[0;32m<ipython-input-136-bd1c5a0f93dd>\u001b[0m in \u001b[0;36m<module>\u001b[0;34m()\u001b[0m\n\u001b[1;32m      3\u001b[0m \u001b[0myhat_train\u001b[0m \u001b[0;34m=\u001b[0m \u001b[0mmodel\u001b[0m\u001b[0;34m.\u001b[0m\u001b[0mpredict\u001b[0m\u001b[0;34m(\u001b[0m\u001b[0mtrain_X\u001b[0m\u001b[0;34m)\u001b[0m\u001b[0;34m\u001b[0m\u001b[0m\n\u001b[1;32m      4\u001b[0m \u001b[0mtest_p_X\u001b[0m \u001b[0;34m=\u001b[0m \u001b[0mtest_X\u001b[0m\u001b[0;34m.\u001b[0m\u001b[0mreshape\u001b[0m\u001b[0;34m(\u001b[0m\u001b[0;34m(\u001b[0m\u001b[0mtest_X\u001b[0m\u001b[0;34m.\u001b[0m\u001b[0mshape\u001b[0m\u001b[0;34m[\u001b[0m\u001b[0;36m0\u001b[0m\u001b[0;34m]\u001b[0m\u001b[0;34m,\u001b[0m \u001b[0mn_hours\u001b[0m\u001b[0;34m*\u001b[0m\u001b[0mn_features\u001b[0m\u001b[0;34m)\u001b[0m\u001b[0;34m)\u001b[0m\u001b[0;34m\u001b[0m\u001b[0m\n\u001b[0;32m----> 5\u001b[0;31m \u001b[0mtest_p_X_train\u001b[0m \u001b[0;34m=\u001b[0m \u001b[0mtest_X\u001b[0m\u001b[0;34m.\u001b[0m\u001b[0mreshape\u001b[0m\u001b[0;34m(\u001b[0m\u001b[0;34m(\u001b[0m\u001b[0mtrain_X\u001b[0m\u001b[0;34m.\u001b[0m\u001b[0mshape\u001b[0m\u001b[0;34m[\u001b[0m\u001b[0;36m0\u001b[0m\u001b[0;34m]\u001b[0m\u001b[0;34m,\u001b[0m \u001b[0mn_hours\u001b[0m\u001b[0;34m*\u001b[0m\u001b[0mn_features\u001b[0m\u001b[0;34m)\u001b[0m\u001b[0;34m)\u001b[0m\u001b[0;34m\u001b[0m\u001b[0m\n\u001b[0m\u001b[1;32m      6\u001b[0m \u001b[0;34m\u001b[0m\u001b[0m\n\u001b[1;32m      7\u001b[0m \u001b[0;34m\u001b[0m\u001b[0m\n",
      "\u001b[0;31mValueError\u001b[0m: cannot reshape array of size 8200 into shape (800,40)"
     ]
    }
   ],
   "source": [
    "# make a prediction\n",
    "yhat = model.predict(test_X)\n",
    "yhat_train = model.predict(train_X)\n",
    "test_p_X = test_X.reshape((test_X.shape[0], n_hours*n_features))\n",
    "test_p_X_train = test_X.reshape((train_X.shape[0], n_hours*n_features))\n",
    "\n",
    "\n",
    "# invert scaling for forecast\n",
    "inv_yhat_test = concatenate((yhat_train, test_p_X_train[:, -4:]), axis=1)\n",
    "print(inv_yhat_test.shape)\n",
    "inv_yhat_test = scaler.inverse_transform(inv_yhat_test)\n",
    "inv_yhat_test = inv_yhat_test[:,0]\n",
    "\n",
    "\n",
    "# invert scaling for forecast\n",
    "inv_yhat = concatenate((yhat, test_p_X[:, -4:]), axis=1)\n",
    "print(inv_yhat.shape)\n",
    "inv_yhat = scaler.inverse_transform(inv_yhat)\n",
    "inv_yhat = inv_yhat[:,0]\n",
    "\n",
    "# invert scaling for actual\n",
    "test_y = test_y.reshape((len(test_y), 1))\n",
    "inv_y = concatenate((test_y, test_p_X[:, -4:]), axis=1)\n",
    "inv_y = scaler.inverse_transform(inv_y)\n",
    "inv_y = inv_y[:,0]\n",
    "\n",
    "# calculate RMSE\n",
    "rmse = sqrt(mean_squared_error(inv_y, inv_yhat))\n",
    "print('Test RMSE: %.3f' % rmse)"
   ]
  },
  {
   "cell_type": "code",
   "execution_count": 115,
   "metadata": {},
   "outputs": [
    {
     "data": {
      "image/png": "[encoded data removed]",
      "text/plain": [
       "<Figure size 432x288 with 1 Axes>"
      ]
     },
     "metadata": {},
     "output_type": "display_data"
    }
   ],
   "source": [
    "pyplot.plot(test_p_X_train, label='y')\n",
    "pyplot.plot(inv_y, label='y')\n",
    "pyplot.plot(inv_yhat, label='yhat')\n",
    "pyplot.legend()\n",
    "pyplot.show()"
   ]
  },
  {
   "cell_type": "code",
   "execution_count": null,
   "metadata": {},
   "outputs": [],
   "source": [
    "# make a prediction\n",
    "yhat = model.predict([test_X])"
   ]
  }
 ],
 "metadata": {
  "kernelspec": {
   "display_name": "Python 3",
   "language": "python",
   "name": "python3"
  },
  "language_info": {
   "codemirror_mode": {
    "name": "ipython",
    "version": 3
   },
   "file_extension": ".py",
   "mimetype": "text/x-python",
   "name": "python",
   "nbconvert_exporter": "python",
   "pygments_lexer": "ipython3",
   "version": "3.6.5"
  }
 },
 "nbformat": 4,
 "nbformat_minor": 2
}
